{
 "cells": [
  {
   "cell_type": "markdown",
   "metadata": {},
   "source": [
    "Задача 1.\n",
    "Провести дисперсионный анализ для определения того, есть ли различия среднего роста среди взрослых футболистов, хоккеистов и штангистов. Даны значения роста в трех группах случайно выбранных спортсменов: Футболисты: 173, 175, 180, 178, 177, 185, 183, 182. Хоккеисты: 177, 179, 180, 188, 177, 172, 171, 184, 180. Штангисты: 172, 173, 169, 177, 166, 180, 178, 177, 172, 166, 170."
   ]
  },
  {
   "cell_type": "code",
   "execution_count": 1,
   "metadata": {},
   "outputs": [],
   "source": [
    "import numpy as np\n",
    "from scipy import stats\n"
   ]
  },
  {
   "cell_type": "markdown",
   "metadata": {},
   "source": [
    "Для проведения дисперсионного анализа нам необходимо сначала вычислить средний рост в каждой из трех групп спортсменов, а затем общую среднюю высоту. Далее мы вычислим сумму квадратов отклонений от общей средней, суммы квадратов отклонений от средних внутри каждой группы и остаточную сумму квадратов отклонений. Наконец, мы вычислим факторную и остаточную дисперсии, и на их основе проведем тест на статистическую значимость различий между группами."
   ]
  },
  {
   "cell_type": "code",
   "execution_count": 2,
   "metadata": {},
   "outputs": [],
   "source": [
    "football_players = np.array([173, 175, 180, 178, 177, 185, 183, 182])\n",
    "hockey_players = np.array([177, 179, 180, 188, 177, 172, 171, 184, 180])\n",
    "weightlifters = np.array([172, 173, 169, 177, 166, 180, 178, 177, 172, 166, 170])"
   ]
  },
  {
   "cell_type": "markdown",
   "metadata": {},
   "source": [
    "Средний рост в каждой группе"
   ]
  },
  {
   "cell_type": "code",
   "execution_count": 5,
   "metadata": {},
   "outputs": [],
   "source": [
    "mean_football = np.mean(football_players)\n",
    "mean_hockey = np.mean(hockey_players)\n",
    "mean_weightlifters = np.mean(weightlifters)"
   ]
  },
  {
   "cell_type": "markdown",
   "metadata": {},
   "source": [
    "Общая средняя высота"
   ]
  },
  {
   "cell_type": "code",
   "execution_count": 6,
   "metadata": {},
   "outputs": [],
   "source": [
    "overall_mean = np.mean(np.concatenate([football_players, hockey_players, weightlifters]))"
   ]
  },
  {
   "cell_type": "markdown",
   "metadata": {},
   "source": [
    "Вычисление сумм квадратов отклонений"
   ]
  },
  {
   "cell_type": "code",
   "execution_count": 7,
   "metadata": {},
   "outputs": [],
   "source": [
    "ss_total = np.sum((np.concatenate([football_players, hockey_players, weightlifters]) - overall_mean) ** 2)\n",
    "ss_between = len(football_players) * (mean_football - overall_mean) ** 2 + len(hockey_players) * (mean_hockey - overall_mean) ** 2 + len(weightlifters) * (mean_weightlifters - overall_mean) ** 2\n",
    "ss_within = np.sum((football_players - mean_football) ** 2) + np.sum((hockey_players - mean_hockey) ** 2) + np.sum((weightlifters - mean_weightlifters) ** 2)\n"
   ]
  },
  {
   "cell_type": "markdown",
   "metadata": {},
   "source": [
    "Вычисление факторной и остаточной дисперсии"
   ]
  },
  {
   "cell_type": "code",
   "execution_count": 8,
   "metadata": {},
   "outputs": [],
   "source": [
    "df_between = 3 - 1\n",
    "df_within = len(football_players) + len(hockey_players) + len(weightlifters) - 3\n",
    "ms_between = ss_between / df_between\n",
    "ms_within = ss_within / df_within"
   ]
  },
  {
   "cell_type": "code",
   "execution_count": 9,
   "metadata": {},
   "outputs": [],
   "source": [
    "f_statistic = ms_between / ms_within\n",
    "p_value = stats.f.sf(f_statistic, df_between, df_within)\n"
   ]
  },
  {
   "cell_type": "markdown",
   "metadata": {},
   "source": [
    "Проведение теста на статистическую значимость различий"
   ]
  },
  {
   "cell_type": "code",
   "execution_count": 10,
   "metadata": {},
   "outputs": [
    {
     "name": "stdout",
     "output_type": "stream",
     "text": [
      "F-статистика: 5.500053450812598\n",
      "p-значение: 0.010482206918698674\n"
     ]
    }
   ],
   "source": [
    "print(\"F-статистика:\", f_statistic)\n",
    "print(\"p-значение:\", p_value)"
   ]
  },
  {
   "cell_type": "markdown",
   "metadata": {},
   "source": [
    "Вывод: если p-значение меньше заданного уровня значимости (обычно 0.05), то мы можем сделать вывод о статистически значимых различиях между средними значениями роста в трех группах спортсменов."
   ]
  }
 ],
 "metadata": {
  "kernelspec": {
   "display_name": "Python 3",
   "language": "python",
   "name": "python3"
  },
  "language_info": {
   "codemirror_mode": {
    "name": "ipython",
    "version": 3
   },
   "file_extension": ".py",
   "mimetype": "text/x-python",
   "name": "python",
   "nbconvert_exporter": "python",
   "pygments_lexer": "ipython3",
   "version": "3.11.4"
  }
 },
 "nbformat": 4,
 "nbformat_minor": 2
}
